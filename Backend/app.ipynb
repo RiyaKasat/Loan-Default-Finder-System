from flask import Flask, request, jsonify
from flask_cors import CORS

app = Flask(__name__)
CORS(app)

TAG = "-------------------->"
@app.route('/', methods=['GET', 'POST'])
def index():
    data=request.data
    print(TAG, data)
    return jsonify('Hello')
        

if __name__ == '__main__':
    app.run()